{
  "nbformat": 4,
  "nbformat_minor": 0,
  "metadata": {
    "colab": {
      "provenance": []
    },
    "kernelspec": {
      "name": "python3",
      "display_name": "Python 3"
    },
    "language_info": {
      "name": "python"
    }
  },
  "cells": [
    {
      "cell_type": "markdown",
      "source": [
        "#Rule Based ChatBot"
      ],
      "metadata": {
        "id": "QxHrNRatYw4o"
      }
    },
    {
      "cell_type": "markdown",
      "source": [
        "A rule-based bot uses some rules on which it is trained, while a self-learning bot uses some machine-learning-based approach to chat.\n",
        "\n",
        "In this tutorial, I will show you how to create a simple and quick chatbot in python using a rule-based approach."
      ],
      "metadata": {
        "id": "U7raQ6eyY5OB"
      }
    },
    {
      "cell_type": "code",
      "execution_count": 1,
      "metadata": {
        "id": "NGm9CHkVYXNw"
      },
      "outputs": [],
      "source": [
        "from nltk.chat.util import Chat, reflections"
      ]
    },
    {
      "cell_type": "markdown",
      "source": [
        "Create the chatbots list of recognizable patterns and it’s a response to those patterns. To do this we will create a variable called pairs."
      ],
      "metadata": {
        "id": "ZQyv6wrXZSpD"
      }
    },
    {
      "cell_type": "code",
      "source": [
        "#Pairs is a list of patterns and responses.\n",
        "pairs = [\n",
        "    [\n",
        "        r\"(.*)my name is (.*)\",\n",
        "        [\"Hello %2, How are you today ?\"]\n",
        "    ],\n",
        "    [\n",
        "        r\"(.*)help(.*) \",\n",
        "        [\"I can help you \"]\n",
        "    ],\n",
        "     [\n",
        "        r\"(.*) your name ?\",\n",
        "        [\"My name is the clever programmer, but you can just call me robot and I'm a chatbot .\"]\n",
        "    ],\n",
        "    [\n",
        "        r\"how are you (.*) ?\",\n",
        "        [\"I'm doing very well\", \"i am great !\"]\n",
        "    ],\n",
        "    [\n",
        "        r\"sorry (.*)\",\n",
        "        [\"Its alright\",\"Its OK, never mind that\"]\n",
        "    ],\n",
        "    [\n",
        "        r\"i'm (.*) (good|well|okay|ok)\",\n",
        "        [\"Nice to hear that\",\"Alright, great !\"]\n",
        "    ],\n",
        "    [\n",
        "        r\"(hi|hey|hello|hola|holla)(.*)\",\n",
        "        [\"Hello\", \"Hey there\"]\n",
        "    ],\n",
        "    [\n",
        "        r\"what (.*) want ?\",\n",
        "        [\"Make me an offer I can't refuse\"]\n",
        "\n",
        "    ],\n",
        "    [\n",
        "        r\"(.*)created(.*)\",\n",
        "        [\"top secret :-)\"]\n",
        "    ],\n",
        "    [\n",
        "        r\"(.*) (location|city) ?\",\n",
        "        ['Dinajpur, Bangladesh']\n",
        "    ],\n",
        "    [\n",
        "        r\"(.*)raining in (.*)\",\n",
        "        [\"No rain in the past 4 days here in %2\",\"In %2 there is a 50% chance of rain\"]\n",
        "    ],\n",
        "    [\n",
        "        r\"how (.*) health (.*)\",\n",
        "        [\"Health is very important, but I am a computer, so I don't need to worry about my health \"]\n",
        "    ],\n",
        "    [\n",
        "        r\"(.*)(sports|game|sport)(.*)\",\n",
        "        [\"I'm a very big fan of Cricket\"]\n",
        "    ],\n",
        "    [\n",
        "        r\"who (.*) (Cricketer|Batsman)?\",\n",
        "        [\"Sakib Al Hasan\"]\n",
        "    ],\n",
        "    [\n",
        "        r\"(quit|bye)\",\n",
        "        [\"Bye for now. See you soon :) \",\"It was nice talking to you. See you soon :)\"]\n",
        "    ],\n",
        "    [\n",
        "        r\"(.*)\",\n",
        "        ['Ops...........']\n",
        "    ],\n",
        "]"
      ],
      "metadata": {
        "id": "rLnm7bv7ZTjb"
      },
      "execution_count": 2,
      "outputs": []
    },
    {
      "cell_type": "markdown",
      "source": [
        "Okay, so as we finished the patterns and responses, let’s take a look at something called reflections. Reflections is a dictionary file that contains a set of input values and corresponding output values.\n",
        "\n",
        "For example, if the string input was “I am a programmer”, then the output would be “you are a programmer”."
      ],
      "metadata": {
        "id": "iMHBKyJ_cqAX"
      }
    },
    {
      "cell_type": "code",
      "source": [
        "print(reflections)\n"
      ],
      "metadata": {
        "colab": {
          "base_uri": "https://localhost:8080/"
        },
        "id": "7FktMvImcfp1",
        "outputId": "01595387-a830-4ea0-e121-946fd713e560"
      },
      "execution_count": 3,
      "outputs": [
        {
          "output_type": "stream",
          "name": "stdout",
          "text": [
            "{'i am': 'you are', 'i was': 'you were', 'i': 'you', \"i'm\": 'you are', \"i'd\": 'you would', \"i've\": 'you have', \"i'll\": 'you will', 'my': 'your', 'you are': 'I am', 'you were': 'I was', \"you've\": 'I have', \"you'll\": 'I will', 'your': 'my', 'yours': 'mine', 'you': 'me', 'me': 'you'}\n"
          ]
        }
      ]
    },
    {
      "cell_type": "code",
      "source": [
        "# create own reflections\n",
        "dummy_reflections = {\n",
        "\n",
        "    'go'    :     'gone',\n",
        "    'hello' :     'Bollo'\n",
        "\n",
        "}"
      ],
      "metadata": {
        "id": "w6tH3vEUcwcy"
      },
      "execution_count": 4,
      "outputs": []
    },
    {
      "cell_type": "code",
      "source": [
        "\n",
        "\n",
        "# create chat bot\n",
        "chat = Chat(pairs, reflections)"
      ],
      "metadata": {
        "id": "ktlMg3d-dSaV"
      },
      "execution_count": 5,
      "outputs": []
    },
    {
      "cell_type": "markdown",
      "source": [
        "Now, let’s start a conversation"
      ],
      "metadata": {
        "id": "Q4tmi-vkeI94"
      }
    },
    {
      "cell_type": "code",
      "source": [
        "# default message at the start of chat\n",
        "print(\"Hi, I'm the clever programmer and I like to chat :\")\n",
        "\n",
        "chat.converse()"
      ],
      "metadata": {
        "colab": {
          "base_uri": "https://localhost:8080/"
        },
        "id": "SxbKsiQdeASe",
        "outputId": "f0da4c4a-a61a-46aa-82cd-0efa2c96325a"
      },
      "execution_count": 12,
      "outputs": [
        {
          "output_type": "stream",
          "name": "stdout",
          "text": [
            "Hi, I'm the clever programmer and I like to chat :\n",
            ">hi\n",
            "Hello\n",
            ">what is your name\n",
            "My name is the clever programmer, but you can just call me robot and I'm a chatbot .\n",
            ">how are you \n",
            "I'm doing very well\n",
            ">who is created you\n",
            "top secret :-)\n",
            ">who is your favorite Batsman\n",
            "Sakib Al Hasan\n",
            ">Ops....hahahhaha\n",
            "Ops...........\n",
            ">quit\n",
            "Bye for now. See you soon :) \n"
          ]
        }
      ]
    },
    {
      "cell_type": "code",
      "source": [
        "# hi\n",
        "# what is your name\n",
        "# how are you today\n",
        "# who is created you\n",
        "# who is your favorite Batsman\n",
        "# quit"
      ],
      "metadata": {
        "id": "Mm7Zu_hhhmCR"
      },
      "execution_count": null,
      "outputs": []
    },
    {
      "cell_type": "markdown",
      "source": [
        "#"
      ],
      "metadata": {
        "id": "dMVmXDRmfegC"
      }
    }
  ]
}